{
 "cells": [
  {
   "cell_type": "code",
   "execution_count": null,
   "metadata": {},
   "outputs": [],
   "source": [
    "import pandas as pd\n",
    "import requests\n",
    "from bs4 import BeautifulSoup\n",
    "import ip_rotator"
   ]
  },
  {
   "cell_type": "code",
   "execution_count": null,
   "metadata": {},
   "outputs": [],
   "source": [
    "# proxy = ip_rotator.Proxy(https=True)"
   ]
  },
  {
   "cell_type": "code",
   "execution_count": null,
   "metadata": {},
   "outputs": [],
   "source": [
    "def get_players():\n",
    "\n",
    "    url = \"https://fbref.com/en/comps/Big5/stats/players/Big-5-European-Leagues-Stats\"\n",
    "\n",
    "    # page = proxy.session.get(url)\n",
    "    page = requests.get(url)\n",
    "    soup = BeautifulSoup(page.content, 'html.parser')\n",
    "\n",
    "    players = soup.find_all(\"td\", {\"class\":\"left\", \"data-stat\":\"player\"})\n",
    "    positions = soup.find_all(\"td\", {\"class\":\"center\", \"data-stat\":\"position\"})#\n",
    "    teams = soup.find_all(\"td\", {\"class\":\"left\", \"data-stat\":\"team\"})\n",
    "\n",
    "    players_list = []\n",
    "    for i in range(len(players)):\n",
    "        name = players[i].find(\"a\").text\n",
    "        position = positions[i].text\n",
    "        team = teams[i].text\n",
    "        href = players[i].find(\"a\").get(\"href\")\n",
    "        players_list.append([name, position, team, href])\n",
    "    df = pd.DataFrame(players_list, columns=[\"Name\", \"Position\", \"Team\", \"URL\"])\n",
    "    df[\"Position\"] = df[\"Position\"].str.split(\",\").apply(lambda x: x[0])\n",
    "    \n",
    "    df.set_index(\"Name\", inplace=True)\n",
    "    \n",
    "    return df"
   ]
  },
  {
   "cell_type": "code",
   "execution_count": null,
   "metadata": {},
   "outputs": [],
   "source": [
    "# player_database = get_players()"
   ]
  },
  {
   "cell_type": "code",
   "execution_count": null,
   "metadata": {},
   "outputs": [],
   "source": [
    "# player_database.to_csv(\"player-database-20jan23.csv\")"
   ]
  },
  {
   "cell_type": "code",
   "execution_count": null,
   "metadata": {},
   "outputs": [],
   "source": [
    "player_database = pd.read_csv(\"player-database-20jan23.csv\", header=0, index_col=0)"
   ]
  },
  {
   "cell_type": "code",
   "execution_count": null,
   "metadata": {},
   "outputs": [],
   "source": [
    "player_database.loc[\"Raphinha\"]"
   ]
  },
  {
   "cell_type": "code",
   "execution_count": null,
   "metadata": {},
   "outputs": [],
   "source": [
    "gk_database = player_database[player_database[\"Position\"]==\"GK\"]"
   ]
  },
  {
   "cell_type": "code",
   "execution_count": null,
   "metadata": {},
   "outputs": [],
   "source": [
    "df_database = player_database[player_database[\"Position\"]==\"DF\"]"
   ]
  },
  {
   "cell_type": "code",
   "execution_count": null,
   "metadata": {},
   "outputs": [],
   "source": [
    "mf_database = player_database[player_database[\"Position\"]==\"MF\"]"
   ]
  },
  {
   "cell_type": "code",
   "execution_count": null,
   "metadata": {},
   "outputs": [],
   "source": [
    "fw_database = player_database[player_database[\"Position\"]==\"FW\"]"
   ]
  },
  {
   "cell_type": "code",
   "execution_count": null,
   "metadata": {},
   "outputs": [],
   "source": [
    "def player_stats(player_name, player_database=player_database):\n",
    "    \n",
    "    # proxy.changeIp()\n",
    "    \n",
    "    url_end = player_database.loc[player_name][\"URL\"]\n",
    "    \n",
    "    # Define the URL of the page you want to scrape\n",
    "    url = \"https://fbref.com{}\".format(url_end)\n",
    "\n",
    "    # Send a GET request to the website\n",
    "    # response = proxy.session.get(url)\n",
    "    page = requests.get(url)\n",
    "\n",
    "    # Parse the HTML content of the page\n",
    "    soup = BeautifulSoup(page.content, 'html.parser')\n",
    "\n",
    "    import regex as re\n",
    "    \n",
    "    # Find the table containing the performance statistics\n",
    "    table = soup.find('table', {'id': re.compile(r'scout_summary')})\n",
    "\n",
    "    # Find all the rows in the table\n",
    "    rows = table.find_all('tr')\n",
    "\n",
    "    import pandas as pd\n",
    "\n",
    "    # Extract the data from the rows of the table\n",
    "    data = []\n",
    "    index = []\n",
    "    for row in rows:\n",
    "        index.append(row.find('th').text)\n",
    "        data.append([cell.text for cell in row.find_all('td')])\n",
    "\n",
    "    # Extract the column titles from the table\n",
    "    column_titles = [cell.text for cell in table.find('thead').find_all('th')]\n",
    "\n",
    "    # create index dataframe\n",
    "    index_df = pd.DataFrame(index, columns=[column_titles[0]])\n",
    "\n",
    "    # Create a dataframe from the extracted data\n",
    "    data_df = pd.DataFrame(data, columns=column_titles[1:])\n",
    "\n",
    "    # concatenate index_df and data_df\n",
    "    stats = pd.concat([index_df, data_df], axis=1)\n",
    "    stats = stats.drop(stats.index[0]).set_index(\"Statistic\", drop=True)\n",
    "    stats = stats[stats.astype(bool)].dropna()\n",
    "    if player_database.loc[player_name][\"Position\"] != \"GK\":\n",
    "        stats[\"Per 90\"][\"Pass Completion %\"] = stats[\"Per 90\"][\"Pass Completion %\"].replace(\"%\", \"\")\n",
    "    else:\n",
    "        stats[\"Per 90\"][\"Save% (Penalty Kicks)\"] = stats[\"Per 90\"][\"Save% (Penalty Kicks)\"].replace(\"%\", \"\")\n",
    "        stats[\"Per 90\"][\"Save Percentage\"] = stats[\"Per 90\"][\"Save Percentage\"].replace(\"%\", \"\")\n",
    "        stats[\"Per 90\"][\"Clean Sheet Percentage\"] = stats[\"Per 90\"][\"Clean Sheet Percentage\"].replace(\"%\", \"\")\n",
    "        stats[\"Per 90\"][\"Launch %\"] = stats[\"Per 90\"][\"Launch %\"].replace(\"%\", \"\")\n",
    "        stats[\"Per 90\"][\"Crosses Stopped %\"] = stats[\"Per 90\"][\"Crosses Stopped %\"].replace(\"%\", \"\")\n",
    "    stats = stats.astype(\"float\")\n",
    "    stats = stats.reset_index()\n",
    "    stats = stats.assign(Name=player_name).set_index([\"Name\", \"Statistic\"], drop=True)\n",
    "    \n",
    "    return stats"
   ]
  },
  {
   "cell_type": "code",
   "execution_count": null,
   "metadata": {},
   "outputs": [],
   "source": [
    "stats = player_stats(\"Tyler Adams\")"
   ]
  },
  {
   "cell_type": "code",
   "execution_count": null,
   "metadata": {},
   "outputs": [],
   "source": [
    "stats"
   ]
  },
  {
   "cell_type": "code",
   "execution_count": null,
   "metadata": {},
   "outputs": [],
   "source": [
    "# def stats_database(player_database):\n",
    "    \n",
    "#     df = pd.DataFrame()\n",
    "\n",
    "#     for i in player_database.index:\n",
    "#         try:\n",
    "#             df = df.append(player_stats(i))\n",
    "#         except:\n",
    "#             pass\n",
    "\n",
    "#     return df            "
   ]
  },
  {
   "cell_type": "code",
   "execution_count": null,
   "metadata": {
    "scrolled": true
   },
   "outputs": [],
   "source": [
    "# mf_stats = stats_database(mf_database)"
   ]
  },
  {
   "cell_type": "code",
   "execution_count": null,
   "metadata": {},
   "outputs": [],
   "source": [
    "# all_stats.to_csv(\"stats-database-20jan23.csv\")"
   ]
  },
  {
   "cell_type": "code",
   "execution_count": null,
   "metadata": {},
   "outputs": [],
   "source": [
    "import plotly.express as px"
   ]
  },
  {
   "cell_type": "code",
   "execution_count": null,
   "metadata": {},
   "outputs": [],
   "source": [
    "def polar_plots(player_name1, player_name2, tables=False):\n",
    "    \n",
    "    import plotly.graph_objects as go\n",
    "\n",
    "    player1 = player_stats(player_name1)\n",
    "    player2 = player_stats(player_name2)\n",
    "    \n",
    "    fig = go.Figure()\n",
    "\n",
    "    fig.add_trace(go.Scatterpolar(\n",
    "          r=player1[\"Percentile\"],\n",
    "          theta=player1.index.get_level_values(1),\n",
    "          fill='toself',\n",
    "          name=player1.index.get_level_values(0)[0]\n",
    "    ))\n",
    "    fig.add_trace(go.Scatterpolar(\n",
    "          r=player2[\"Percentile\"],\n",
    "          theta=player2.index.get_level_values(1),\n",
    "          fill='toself',\n",
    "          name=player2.index.get_level_values(0)[0]\n",
    "    ))\n",
    "\n",
    "    fig.update_layout(\n",
    "      polar=dict(\n",
    "        radialaxis=dict(\n",
    "          visible=True,\n",
    "          range=[0, 100]\n",
    "        )),\n",
    "      showlegend=True\n",
    "    )\n",
    "\n",
    "    fig.show()   \n",
    "    \n",
    "    if tables:\n",
    "        display(player1)\n",
    "        display(player2)"
   ]
  },
  {
   "cell_type": "code",
   "execution_count": null,
   "metadata": {},
   "outputs": [],
   "source": [
    "polar_plots(\"Harry Kane\", \"Matthis Abline\", tables=True)"
   ]
  },
  {
   "cell_type": "code",
   "execution_count": null,
   "metadata": {},
   "outputs": [],
   "source": [
    "def similar_players(player_name, database):\n",
    "    \n",
    "    import numpy as np\n",
    "    \n",
    "    player1 = player_stats(player_name)\n",
    "    \n",
    "    all_diffs = []\n",
    "    \n",
    "    for i in database.index:\n",
    "        try:\n",
    "            player2 = player_stats(i)\n",
    "            sq_diffs = []\n",
    "            for j in player2.index:\n",
    "                sq_diffs.append((player1.loc[j][\"Percentile\"] - player2.loc[j][\"Percentile\"])**2)\n",
    "            avg_sq_diffs = sum(sq_diffs)/len(sq_diffs)\n",
    "            all_diffs.append(avg_sq_diffs)\n",
    "        except:\n",
    "            all_diffs.append(np.inf)\n",
    "            pass\n",
    "        \n",
    "    min_idx = all_diffs.index(min(all_diffs))\n",
    "    \n",
    "    player_match = database.index[min_idx]\n",
    "    \n",
    "    # polar_plots(player_name, player_match, tables=False)\n",
    "    \n",
    "    return player_match"
   ]
  },
  {
   "cell_type": "code",
   "execution_count": null,
   "metadata": {},
   "outputs": [],
   "source": [
    "similar_players(\"Harry Kane\", fw_database)"
   ]
  },
  {
   "cell_type": "code",
   "execution_count": null,
   "metadata": {},
   "outputs": [],
   "source": []
  }
 ],
 "metadata": {
  "kernelspec": {
   "display_name": "Python 3",
   "language": "python",
   "name": "python3"
  },
  "language_info": {
   "codemirror_mode": {
    "name": "ipython",
    "version": 3
   },
   "file_extension": ".py",
   "mimetype": "text/x-python",
   "name": "python",
   "nbconvert_exporter": "python",
   "pygments_lexer": "ipython3",
   "version": "3.8.3"
  }
 },
 "nbformat": 4,
 "nbformat_minor": 4
}
